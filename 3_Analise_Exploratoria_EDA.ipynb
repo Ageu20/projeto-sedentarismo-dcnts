{
 "cells": [
  {
   "cell_type": "markdown",
   "id": "e8bd5a1f",
   "metadata": {},
   "source": [
    "# Análise Exploratória de Dados (EDA)\n",
    "\n",
    "Este notebook contém a análise exploratória dos dados extraídos do Vigitel Brasil 2023."
   ]
  },
  {
   "cell_type": "code",
   "execution_count": null,
   "id": "e65e3c14",
   "metadata": {},
   "outputs": [],
   "source": [
    "import pandas as pd\n",
    "import matplotlib.pyplot as plt\n",
    "import seaborn as sns"
   ]
  },
  {
   "cell_type": "markdown",
   "id": "7d5dfb5c",
   "metadata": {},
   "source": [
    "## Leitura dos Dados"
   ]
  },
  {
   "cell_type": "code",
   "execution_count": null,
   "id": "4663ed8b",
   "metadata": {},
   "outputs": [],
   "source": [
    "atividade = pd.read_excel('vigitel_2023_dados_formatados.xlsx', sheet_name='Atividade_Fisica')\n",
    "alimentacao = pd.read_excel('vigitel_2023_dados_formatados.xlsx', sheet_name='Alimentacao')\n",
    "doencas = pd.read_excel('vigitel_2023_dados_formatados.xlsx', sheet_name='Doencas_Cronicas')"
   ]
  },
  {
   "cell_type": "markdown",
   "id": "99a5e9f7",
   "metadata": {},
   "source": [
    "## Visualização Inicial"
   ]
  },
  {
   "cell_type": "code",
   "execution_count": null,
   "id": "76410f5f",
   "metadata": {},
   "outputs": [],
   "source": [
    "print(atividade.head())\n",
    "print(alimentacao.head())\n",
    "print(doencas.head())"
   ]
  },
  {
   "cell_type": "markdown",
   "id": "b43e6838",
   "metadata": {},
   "source": [
    "## Análise Descritiva"
   ]
  },
  {
   "cell_type": "code",
   "execution_count": null,
   "id": "0ca22a26",
   "metadata": {},
   "outputs": [],
   "source": [
    "print(atividade.describe())\n",
    "print(alimentacao.describe())\n",
    "print(doencas.describe())"
   ]
  },
  {
   "cell_type": "markdown",
   "id": "7918a042",
   "metadata": {},
   "source": [
    "## Gráfico: Níveis de Atividade Física"
   ]
  },
  {
   "cell_type": "code",
   "execution_count": null,
   "id": "eba112ab",
   "metadata": {},
   "outputs": [],
   "source": [
    "sns.barplot(data=atividade, x='Total (%)', y='Indicador', palette='viridis')\n",
    "plt.title('Atividade Física - Total (%)')\n",
    "plt.show()"
   ]
  },
  {
   "cell_type": "markdown",
   "id": "30827c7e",
   "metadata": {},
   "source": [
    "## Gráfico: Hábitos Alimentares"
   ]
  },
  {
   "cell_type": "code",
   "execution_count": null,
   "id": "06ecae04",
   "metadata": {},
   "outputs": [],
   "source": [
    "sns.barplot(data=alimentacao, x='Total (%)', y='Indicador', palette='magma')\n",
    "plt.title('Hábitos Alimentares - Total (%)')\n",
    "plt.show()"
   ]
  },
  {
   "cell_type": "markdown",
   "id": "90864e6c",
   "metadata": {},
   "source": [
    "## Gráfico: Prevalência de Doenças Crônicas"
   ]
  },
  {
   "cell_type": "code",
   "execution_count": null,
   "id": "09500979",
   "metadata": {},
   "outputs": [],
   "source": [
    "sns.barplot(data=doencas, x='Total (%)', y='Indicador', palette='coolwarm')\n",
    "plt.title('Doenças Crônicas - Total (%)')\n",
    "plt.show()"
   ]
  }
 ],
 "metadata": {},
 "nbformat": 4,
 "nbformat_minor": 5
}
